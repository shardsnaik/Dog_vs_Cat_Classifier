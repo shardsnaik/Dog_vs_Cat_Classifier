{
 "cells": [
  {
   "cell_type": "code",
   "execution_count": 4,
   "metadata": {},
   "outputs": [
    {
     "data": {
      "text/plain": [
       "'c:\\\\Dog_vs_Cat_Classifier'"
      ]
     },
     "execution_count": 4,
     "metadata": {},
     "output_type": "execute_result"
    }
   ],
   "source": [
    "%pwd"
   ]
  },
  {
   "cell_type": "code",
   "execution_count": 2,
   "metadata": {},
   "outputs": [],
   "source": [
    "import os"
   ]
  },
  {
   "cell_type": "code",
   "execution_count": 3,
   "metadata": {},
   "outputs": [],
   "source": [
    "os.chdir('../')"
   ]
  },
  {
   "cell_type": "code",
   "execution_count": 21,
   "metadata": {},
   "outputs": [],
   "source": [
    "from main.d_vs_c.funtions.comon_funtn import read_yaml, create_directories\n",
    "from main.d_vs_c.utils import *\n",
    "\n",
    "\n",
    "class ConfigManeger:\n",
    "    def __init__(self, config_path = config_file,\n",
    "                  params_path = params_file): \n",
    "        self.config = read_yaml(config_path)\n",
    "        self.params = read_yaml(params_path)\n",
    "\n",
    "        create_directories([self.config.artifacts_folder])\n",
    "\n",
    "    def pre_process_config(self):\n",
    "        config = self.config.preproccessed_data\n",
    "        create_directories([config.datasets_dir])\n",
    "\n",
    "        preprocess_config = {\n",
    "             'datasets_dir': Path(config['datasets_dir'])\n",
    "\n",
    "        }\n",
    "\n",
    "        return preprocess_config"
   ]
  },
  {
   "cell_type": "code",
   "execution_count": null,
   "metadata": {},
   "outputs": [],
   "source": [
    "import os\n",
    "import cv2\n",
    "import tensorflow as tf\n",
    "from main.d_vs_c import logger\n",
    "\n",
    "class Pre_process_img:\n",
    "\n",
    "    def __init__(self, config):\n",
    "        self.config = config\n",
    "        # params = self.params\n",
    "        self.list = []\n",
    "\n",
    "\n",
    "    # def check_channel(self, file_path):\n",
    "    #     img = tf.io.read_file(file_path)\n",
    "    #     try:\n",
    "    #         img = tf.image.decode_image(img, channels=3)  # Decode with 3 channels (RGB)\n",
    "    #         img = tf.image.convert_image_dtype(img, tf.float32)  # Convert to [0,1]\n",
    "    #     except tf.errors.InvalidArgumentError:\n",
    "    #         print(f\"Skipping file {file_path} due to unexpected channels.\")\n",
    "    #         img_num = file_path.split('/')[-1].split('.')[0]\n",
    "    #         print(f\" image number:-  {img_num}\" )\n",
    "    #         self.list.append(img_num)\n",
    "    #         return None\n",
    "    #     return img\n",
    "\n",
    "    def check_channel(self, file_path):\n",
    "        try:\n",
    "            # Read the image\n",
    "            img = cv2.imread(file_path)\n",
    "            if img is None or len(img.shape) != 3 or img.shape[2] != 3:\n",
    "                raise ValueError(\"Unexpected image channels\")\n",
    "            # Resize or preprocess as needed\n",
    "            img = cv2.resize(img, (224, 224))  # Example: Resize to 224x224\n",
    "        except Exception as e:\n",
    "            logger.warning(f\"Skipping file {file_path} due to error: {e}\")\n",
    "            self.list.append(file_path)\n",
    "            return None\n",
    "        return img\n",
    "    \n",
    "    def process_img(self):\n",
    "        directory = self.config['datasets_dir']\n",
    "\n",
    "        for categories in ['train/Dog', 'train/Cat', 'test/Dog','test/Cat']:\n",
    "            directory_path = os.path.join(directory, categories)\n",
    "            for filename in os.listdir(directory_path):\n",
    "              file_path = os.path.join(directory_path, filename)\n",
    "              # Ensure that the path is a file, not a directory\n",
    "              if os.path.isfile(file_path):\n",
    "                  img = self.check_channel(file_path)\n",
    "                  if img is not None:\n",
    "                      # You can process the img further or collect it for training\n",
    "                      pass\n",
    "        print(self.list)\n",
    "        logger.info(f'showing the images which ishaving unexpected channel{self.list}')\n",
    "        os.makedirs('artifacts', exist_ok=True)\n",
    "        os.path.join('artifacts', 'filter_img.txt') \n",
    "        return self.list\n",
    "    "
   ]
  },
  {
   "cell_type": "code",
   "execution_count": 25,
   "metadata": {},
   "outputs": [
    {
     "name": "stdout",
     "output_type": "stream",
     "text": [
      "{'artifacts_folder': 'artifacts', 'downloading_data': {'source_dir': 'artifacts/raw_data', 'source_URL': 'karakaggle/kaggle-cat-vs-dog-dataset'}, 'preproccessed_data': {'datasets_dir': 'artifacts/datasets', 'train_dir': 'artifacts/datasets/train', 'test_dir': 'artifacts/datasets/test'}}\n",
      "{'test_size': 0.2, 'random_state': 42}\n",
      "[2024-11-18 16:08:32,821: INFO: comon_funtn: created directory at: artifacts]\n",
      "[2024-11-18 16:08:32,821: INFO: comon_funtn: created directory at: artifacts/datasets]\n",
      "[2024-11-18 16:08:33,124: WARNING: 3329324836: Skipping file artifacts\\datasets\\train/Dog\\10158.jpg due to error: Unexpected image channels]\n",
      "[2024-11-18 16:08:34,969: WARNING: 3329324836: Skipping file artifacts\\datasets\\train/Dog\\10401.jpg due to error: Unexpected image channels]\n",
      "[2024-11-18 16:08:42,426: WARNING: 3329324836: Skipping file artifacts\\datasets\\train/Dog\\11410.jpg due to error: Unexpected image channels]\n",
      "[2024-11-18 16:08:44,439: WARNING: 3329324836: Skipping file artifacts\\datasets\\train/Dog\\11675.jpg due to error: Unexpected image channels]\n",
      "[2024-11-18 16:08:45,813: WARNING: 3329324836: Skipping file artifacts\\datasets\\train/Dog\\11853.jpg due to error: Unexpected image channels]\n",
      "[2024-11-18 16:08:52,250: WARNING: 3329324836: Skipping file artifacts\\datasets\\train/Dog\\1308.jpg due to error: Unexpected image channels]\n",
      "[2024-11-18 16:08:55,687: WARNING: 3329324836: Skipping file artifacts\\datasets\\train/Dog\\1866.jpg due to error: Unexpected image channels]\n",
      "[2024-11-18 16:08:59,511: WARNING: 3329324836: Skipping file artifacts\\datasets\\train/Dog\\2384.jpg due to error: Unexpected image channels]\n",
      "[2024-11-18 16:09:01,605: WARNING: 3329324836: Skipping file artifacts\\datasets\\train/Dog\\2688.jpg due to error: Unexpected image channels]\n",
      "[2024-11-18 16:09:02,892: WARNING: 3329324836: Skipping file artifacts\\datasets\\train/Dog\\2877.jpg due to error: Unexpected image channels]\n",
      "[2024-11-18 16:09:04,739: WARNING: 3329324836: Skipping file artifacts\\datasets\\train/Dog\\3136.jpg due to error: Unexpected image channels]\n",
      "[2024-11-18 16:09:05,793: WARNING: 3329324836: Skipping file artifacts\\datasets\\train/Dog\\3288.jpg due to error: Unexpected image channels]\n",
      "[2024-11-18 16:09:23,363: WARNING: 3329324836: Skipping file artifacts\\datasets\\train/Dog\\5736.jpg due to error: Unexpected image channels]\n",
      "[2024-11-18 16:09:25,360: WARNING: 3329324836: Skipping file artifacts\\datasets\\train/Dog\\6059.jpg due to error: Unexpected image channels]\n",
      "[2024-11-18 16:09:26,427: WARNING: 3329324836: Skipping file artifacts\\datasets\\train/Dog\\6238.jpg due to error: Unexpected image channels]\n",
      "[2024-11-18 16:09:29,648: WARNING: 3329324836: Skipping file artifacts\\datasets\\train/Dog\\6718.jpg due to error: Unexpected image channels]\n",
      "[2024-11-18 16:09:32,656: WARNING: 3329324836: Skipping file artifacts\\datasets\\train/Dog\\7112.jpg due to error: Unexpected image channels]\n",
      "[2024-11-18 16:09:32,983: WARNING: 3329324836: Skipping file artifacts\\datasets\\train/Dog\\7133.jpg due to error: Unexpected image channels]\n",
      "[2024-11-18 16:09:39,173: WARNING: 3329324836: Skipping file artifacts\\datasets\\train/Dog\\7369.jpg due to error: Unexpected image channels]\n",
      "[2024-11-18 16:09:41,746: WARNING: 3329324836: Skipping file artifacts\\datasets\\train/Dog\\7459.jpg due to error: Unexpected image channels]\n",
      "[2024-11-18 16:09:53,894: WARNING: 3329324836: Skipping file artifacts\\datasets\\train/Dog\\7969.jpg due to error: Unexpected image channels]\n",
      "[2024-11-18 16:10:08,995: WARNING: 3329324836: Skipping file artifacts\\datasets\\train/Dog\\8730.jpg due to error: Unexpected image channels]\n",
      "[2024-11-18 16:10:38,579: WARNING: 3329324836: Skipping file artifacts\\datasets\\train/Cat\\10125.jpg due to error: Unexpected image channels]\n",
      "[2024-11-18 16:10:49,039: WARNING: 3329324836: Skipping file artifacts\\datasets\\train/Cat\\10501.jpg due to error: Unexpected image channels]\n",
      "[2024-11-18 16:10:55,757: WARNING: 3329324836: Skipping file artifacts\\datasets\\train/Cat\\10820.jpg due to error: Unexpected image channels]\n",
      "[2024-11-18 16:11:12,179: WARNING: 3329324836: Skipping file artifacts\\datasets\\train/Cat\\11565.jpg due to error: Unexpected image channels]\n",
      "[2024-11-18 16:11:20,408: WARNING: 3329324836: Skipping file artifacts\\datasets\\train/Cat\\11874.jpg due to error: Unexpected image channels]\n",
      "[2024-11-18 16:11:22,018: WARNING: 3329324836: Skipping file artifacts\\datasets\\train/Cat\\11935.jpg due to error: Unexpected image channels]\n",
      "[2024-11-18 16:11:38,369: WARNING: 3329324836: Skipping file artifacts\\datasets\\train/Cat\\140.jpg due to error: Unexpected image channels]\n",
      "[2024-11-18 16:12:24,963: WARNING: 3329324836: Skipping file artifacts\\datasets\\train/Cat\\3300.jpg due to error: Unexpected image channels]\n",
      "[2024-11-18 16:12:58,501: WARNING: 3329324836: Skipping file artifacts\\datasets\\train/Cat\\4833.jpg due to error: Unexpected image channels]\n",
      "[2024-11-18 16:13:16,822: WARNING: 3329324836: Skipping file artifacts\\datasets\\train/Cat\\5553.jpg due to error: Unexpected image channels]\n",
      "[2024-11-18 16:13:42,430: WARNING: 3329324836: Skipping file artifacts\\datasets\\train/Cat\\660.jpg due to error: Unexpected image channels]\n",
      "[2024-11-18 16:14:14,492: WARNING: 3329324836: Skipping file artifacts\\datasets\\train/Cat\\7968.jpg due to error: Unexpected image channels]\n",
      "[2024-11-18 16:14:14,710: WARNING: 3329324836: Skipping file artifacts\\datasets\\train/Cat\\7978.jpg due to error: Unexpected image channels]\n",
      "[2024-11-18 16:14:24,873: WARNING: 3329324836: Skipping file artifacts\\datasets\\train/Cat\\8470.jpg due to error: Unexpected image channels]\n",
      "[2024-11-18 16:14:47,789: WARNING: 3329324836: Skipping file artifacts\\datasets\\train/Cat\\936.jpg due to error: Unexpected image channels]\n",
      "[2024-11-18 16:14:58,789: WARNING: 3329324836: Skipping file artifacts\\datasets\\train/Cat\\9778.jpg due to error: Unexpected image channels]\n",
      "[2024-11-18 16:15:17,217: WARNING: 3329324836: Skipping file artifacts\\datasets\\test/Dog\\11849.jpg due to error: Unexpected image channels]\n",
      "[2024-11-18 16:15:34,361: WARNING: 3329324836: Skipping file artifacts\\datasets\\test/Dog\\3588.jpg due to error: Unexpected image channels]\n",
      "[2024-11-18 16:15:57,496: WARNING: 3329324836: Skipping file artifacts\\datasets\\test/Dog\\9188.jpg due to error: Unexpected image channels]\n",
      "[2024-11-18 16:16:05,033: WARNING: 3329324836: Skipping file artifacts\\datasets\\test/Cat\\11210.jpg due to error: Unexpected image channels]\n",
      "[2024-11-18 16:16:15,840: WARNING: 3329324836: Skipping file artifacts\\datasets\\test/Cat\\2663.jpg due to error: Unexpected image channels]\n",
      "[2024-11-18 16:16:19,011: WARNING: 3329324836: Skipping file artifacts\\datasets\\test/Cat\\3491.jpg due to error: Unexpected image channels]\n",
      "[2024-11-18 16:16:38,680: WARNING: 3329324836: Skipping file artifacts\\datasets\\test/Cat\\850.jpg due to error: Unexpected image channels]\n",
      "[2024-11-18 16:16:42,403: WARNING: 3329324836: Skipping file artifacts\\datasets\\test/Cat\\9565.jpg due to error: Unexpected image channels]\n",
      "['artifacts\\\\datasets\\\\train/Dog\\\\10158.jpg', 'artifacts\\\\datasets\\\\train/Dog\\\\10401.jpg', 'artifacts\\\\datasets\\\\train/Dog\\\\11410.jpg', 'artifacts\\\\datasets\\\\train/Dog\\\\11675.jpg', 'artifacts\\\\datasets\\\\train/Dog\\\\11853.jpg', 'artifacts\\\\datasets\\\\train/Dog\\\\1308.jpg', 'artifacts\\\\datasets\\\\train/Dog\\\\1866.jpg', 'artifacts\\\\datasets\\\\train/Dog\\\\2384.jpg', 'artifacts\\\\datasets\\\\train/Dog\\\\2688.jpg', 'artifacts\\\\datasets\\\\train/Dog\\\\2877.jpg', 'artifacts\\\\datasets\\\\train/Dog\\\\3136.jpg', 'artifacts\\\\datasets\\\\train/Dog\\\\3288.jpg', 'artifacts\\\\datasets\\\\train/Dog\\\\5736.jpg', 'artifacts\\\\datasets\\\\train/Dog\\\\6059.jpg', 'artifacts\\\\datasets\\\\train/Dog\\\\6238.jpg', 'artifacts\\\\datasets\\\\train/Dog\\\\6718.jpg', 'artifacts\\\\datasets\\\\train/Dog\\\\7112.jpg', 'artifacts\\\\datasets\\\\train/Dog\\\\7133.jpg', 'artifacts\\\\datasets\\\\train/Dog\\\\7369.jpg', 'artifacts\\\\datasets\\\\train/Dog\\\\7459.jpg', 'artifacts\\\\datasets\\\\train/Dog\\\\7969.jpg', 'artifacts\\\\datasets\\\\train/Dog\\\\8730.jpg', 'artifacts\\\\datasets\\\\train/Cat\\\\10125.jpg', 'artifacts\\\\datasets\\\\train/Cat\\\\10501.jpg', 'artifacts\\\\datasets\\\\train/Cat\\\\10820.jpg', 'artifacts\\\\datasets\\\\train/Cat\\\\11565.jpg', 'artifacts\\\\datasets\\\\train/Cat\\\\11874.jpg', 'artifacts\\\\datasets\\\\train/Cat\\\\11935.jpg', 'artifacts\\\\datasets\\\\train/Cat\\\\140.jpg', 'artifacts\\\\datasets\\\\train/Cat\\\\3300.jpg', 'artifacts\\\\datasets\\\\train/Cat\\\\4833.jpg', 'artifacts\\\\datasets\\\\train/Cat\\\\5553.jpg', 'artifacts\\\\datasets\\\\train/Cat\\\\660.jpg', 'artifacts\\\\datasets\\\\train/Cat\\\\7968.jpg', 'artifacts\\\\datasets\\\\train/Cat\\\\7978.jpg', 'artifacts\\\\datasets\\\\train/Cat\\\\8470.jpg', 'artifacts\\\\datasets\\\\train/Cat\\\\936.jpg', 'artifacts\\\\datasets\\\\train/Cat\\\\9778.jpg', 'artifacts\\\\datasets\\\\test/Dog\\\\11849.jpg', 'artifacts\\\\datasets\\\\test/Dog\\\\3588.jpg', 'artifacts\\\\datasets\\\\test/Dog\\\\9188.jpg', 'artifacts\\\\datasets\\\\test/Cat\\\\11210.jpg', 'artifacts\\\\datasets\\\\test/Cat\\\\2663.jpg', 'artifacts\\\\datasets\\\\test/Cat\\\\3491.jpg', 'artifacts\\\\datasets\\\\test/Cat\\\\850.jpg', 'artifacts\\\\datasets\\\\test/Cat\\\\9565.jpg']\n",
      "[2024-11-18 16:16:44,444: INFO: 3329324836: showing the images which ishaving unexpected channel['artifacts\\\\datasets\\\\train/Dog\\\\10158.jpg', 'artifacts\\\\datasets\\\\train/Dog\\\\10401.jpg', 'artifacts\\\\datasets\\\\train/Dog\\\\11410.jpg', 'artifacts\\\\datasets\\\\train/Dog\\\\11675.jpg', 'artifacts\\\\datasets\\\\train/Dog\\\\11853.jpg', 'artifacts\\\\datasets\\\\train/Dog\\\\1308.jpg', 'artifacts\\\\datasets\\\\train/Dog\\\\1866.jpg', 'artifacts\\\\datasets\\\\train/Dog\\\\2384.jpg', 'artifacts\\\\datasets\\\\train/Dog\\\\2688.jpg', 'artifacts\\\\datasets\\\\train/Dog\\\\2877.jpg', 'artifacts\\\\datasets\\\\train/Dog\\\\3136.jpg', 'artifacts\\\\datasets\\\\train/Dog\\\\3288.jpg', 'artifacts\\\\datasets\\\\train/Dog\\\\5736.jpg', 'artifacts\\\\datasets\\\\train/Dog\\\\6059.jpg', 'artifacts\\\\datasets\\\\train/Dog\\\\6238.jpg', 'artifacts\\\\datasets\\\\train/Dog\\\\6718.jpg', 'artifacts\\\\datasets\\\\train/Dog\\\\7112.jpg', 'artifacts\\\\datasets\\\\train/Dog\\\\7133.jpg', 'artifacts\\\\datasets\\\\train/Dog\\\\7369.jpg', 'artifacts\\\\datasets\\\\train/Dog\\\\7459.jpg', 'artifacts\\\\datasets\\\\train/Dog\\\\7969.jpg', 'artifacts\\\\datasets\\\\train/Dog\\\\8730.jpg', 'artifacts\\\\datasets\\\\train/Cat\\\\10125.jpg', 'artifacts\\\\datasets\\\\train/Cat\\\\10501.jpg', 'artifacts\\\\datasets\\\\train/Cat\\\\10820.jpg', 'artifacts\\\\datasets\\\\train/Cat\\\\11565.jpg', 'artifacts\\\\datasets\\\\train/Cat\\\\11874.jpg', 'artifacts\\\\datasets\\\\train/Cat\\\\11935.jpg', 'artifacts\\\\datasets\\\\train/Cat\\\\140.jpg', 'artifacts\\\\datasets\\\\train/Cat\\\\3300.jpg', 'artifacts\\\\datasets\\\\train/Cat\\\\4833.jpg', 'artifacts\\\\datasets\\\\train/Cat\\\\5553.jpg', 'artifacts\\\\datasets\\\\train/Cat\\\\660.jpg', 'artifacts\\\\datasets\\\\train/Cat\\\\7968.jpg', 'artifacts\\\\datasets\\\\train/Cat\\\\7978.jpg', 'artifacts\\\\datasets\\\\train/Cat\\\\8470.jpg', 'artifacts\\\\datasets\\\\train/Cat\\\\936.jpg', 'artifacts\\\\datasets\\\\train/Cat\\\\9778.jpg', 'artifacts\\\\datasets\\\\test/Dog\\\\11849.jpg', 'artifacts\\\\datasets\\\\test/Dog\\\\3588.jpg', 'artifacts\\\\datasets\\\\test/Dog\\\\9188.jpg', 'artifacts\\\\datasets\\\\test/Cat\\\\11210.jpg', 'artifacts\\\\datasets\\\\test/Cat\\\\2663.jpg', 'artifacts\\\\datasets\\\\test/Cat\\\\3491.jpg', 'artifacts\\\\datasets\\\\test/Cat\\\\850.jpg', 'artifacts\\\\datasets\\\\test/Cat\\\\9565.jpg']]\n"
     ]
    }
   ],
   "source": [
    "obj = ConfigManeger()\n",
    "confi = obj.pre_process_config()\n",
    "pre = Pre_process_img(config = confi)\n",
    "pre.process_img()"
   ]
  },
  {
   "cell_type": "markdown",
   "metadata": {},
   "source": []
  }
 ],
 "metadata": {
  "kernelspec": {
   "display_name": "vir_env",
   "language": "python",
   "name": "python3"
  },
  "language_info": {
   "codemirror_mode": {
    "name": "ipython",
    "version": 3
   },
   "file_extension": ".py",
   "mimetype": "text/x-python",
   "name": "python",
   "nbconvert_exporter": "python",
   "pygments_lexer": "ipython3",
   "version": "3.12.0"
  }
 },
 "nbformat": 4,
 "nbformat_minor": 2
}
