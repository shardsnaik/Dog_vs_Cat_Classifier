{
 "cells": [
  {
   "cell_type": "code",
   "execution_count": 2,
   "metadata": {},
   "outputs": [],
   "source": [
    "import os\n"
   ]
  },
  {
   "cell_type": "code",
   "execution_count": 5,
   "metadata": {},
   "outputs": [
    {
     "data": {
      "text/plain": [
       "'c:\\\\dog_vs_cat_clasifier'"
      ]
     },
     "execution_count": 5,
     "metadata": {},
     "output_type": "execute_result"
    }
   ],
   "source": [
    "%pwd"
   ]
  },
  {
   "cell_type": "code",
   "execution_count": 4,
   "metadata": {},
   "outputs": [],
   "source": [
    "\n",
    "os.chdir('../')"
   ]
  },
  {
   "cell_type": "code",
   "execution_count": 6,
   "metadata": {},
   "outputs": [],
   "source": [
    "from sklearn.model_selection import train_test_split\n",
    "import shutil\n",
    "from main.d_vs_c.funtions.comon_funtn import read_yaml, create_directories\n",
    "from main.d_vs_c import logger\n",
    "from main.d_vs_c.utils import *\n",
    "\n",
    "class Preprocess:\n",
    "    def __init__(self,\n",
    "                 confi_path = config_file,\n",
    "                 param_path = params_file):\n",
    "        self.config = read_yaml(confi_path)\n",
    "        self.params = read_yaml(param_path)\n",
    "\n",
    "        create_directories([self.config.artifacts_folder])\n",
    "\n",
    "    def splting_data_config(self):\n",
    "        config = self.config.preproccessed_data\n",
    "        create_directories([config.datasets_dir])\n",
    "\n",
    "        split_config = {\n",
    "            'train_dir': Path(config['train_dir']),\n",
    "            'test_dir': Path(config['test_dir'])\n",
    "        }\n",
    "\n",
    "        return split_config"
   ]
  },
  {
   "cell_type": "code",
   "execution_count": null,
   "metadata": {},
   "outputs": [],
   "source": [
    "\n",
    "\n",
    "class split_and_move:\n",
    "\n",
    "    def __init__(self, config):\n",
    "         self.config = config\n",
    "\n",
    "\n",
    "    def spliting_the_data(self):\n",
    "        for categories in ['Cat', 'Dog']:\n",
    "            dir = r'artifacts\\raw_data\\kagglecatsanddogs_3367a\\PetImages'\n",
    "            categories_path = os.path.join(dir, categories)\n",
    "            images = os.listdir(categories_path)\n",
    "\n",
    "            train_images, test_images = train_test_split(images, test_size=self.params.test_size, random_state=self.params.random_state)\n",
    "\n",
    "            logger.info(f'Dividing data/Images of {categories} into train and validation set sucessfully')\n",
    "\n",
    "            os.makedirs(os.path.join(self.config.train_dir, categories), exist_ok=True)\n",
    "            os.makedirs(os.path.join(self.config.test_dir, categories), exist_ok=True)\n",
    "\n",
    "            logger.info(f'Making folder of  {categories} categories for training and validation........')\n",
    "\n",
    "            for img in train_images:\n",
    "                shutil.copy(os.path.join(categories_path, img), os.path.join(self.config.train_dir, categories, img))\n",
    "            for img in test_images:\n",
    "                shutil.copy(os.path.join(categories_path, img), os.path.join(self.config.test_dir, categories, img))\n",
    "\n",
    "           \n",
    "            logger.info(f'Images are copied from {categories_path} to {self.config.train_dir} successfully ....................... ')\n",
    "            logger.info(f'Images are copied from {categories_path} to {self.config.test_dir} successfully ....................... ')\n",
    "\n",
    "    def getting_size(self):\n",
    "            config = self.config.preproccessed_data\n",
    "            \n",
    "            logger.info(f'The number of images of Dog in the Train directory ===> {len(os.listdir(os.path.join(config.train_dir, \"Dog\")))}')\n",
    "            logger.info(f'The number of images of Cat in the Train directory ===> {len(os.listdir(os.path.join(config.train_dir, \"Cat\")))}')\n",
    "            logger.info('     ')\n",
    "            logger.info(f'The number of images of Dog in the Test directory ===> {len(os.listdir(os.path.join(config.test_dir, \"Dog\")))}')\n",
    "            logger.info(f'The number of images of Cat in the Test directory ===> {len(os.listdir(os.path.join(config.test_dir, \"Cat\")))}')\n",
    "\n",
    "        \n"
   ]
  },
  {
   "cell_type": "code",
   "execution_count": null,
   "metadata": {},
   "outputs": [
    {
     "name": "stdout",
     "output_type": "stream",
     "text": [
      "{'artifacts_folder': 'artifacts', 'downloading_data': {'source_dir': 'artifacts/raw_data', 'source_URL': 'karakaggle/kaggle-cat-vs-dog-dataset'}, 'preproccessed_data': {'datasets_dir': 'artifacts/datasets', 'train_dir': 'artifacts/datasets/train', 'test_dir': 'artifacts/datasets/test'}}\n",
      "{'test_size': 0.2, 'random_state': 42}\n",
      "[2024-11-13 00:41:15,070: INFO: comon_funtn: created directory at: artifacts]\n",
      "[2024-11-13 00:41:15,090: INFO: 886593086: The number of images of Dog in the train directory ===> 9976]\n",
      "[2024-11-13 00:41:15,108: INFO: 886593086: The number of images of Cat in the train directory ===> 9992]\n",
      "[2024-11-13 00:41:15,108: INFO: 886593086:      ]\n",
      "[2024-11-13 00:41:15,120: INFO: 886593086: The number of images of Dog in the train directory ===> 2494]\n",
      "[2024-11-13 00:41:15,133: INFO: 886593086: The number of images of Cat in the train directory ===> 2499]\n"
     ]
    }
   ],
   "source": [
    "obj = Preprocess()\n",
    "con = obj.splting_data_config()\n",
    "split = split_and_move(config= con)\n",
    "split.spliting_the_data()\n",
    "split.getting_size()"
   ]
  },
  {
   "cell_type": "code",
   "execution_count": null,
   "metadata": {},
   "outputs": [],
   "source": []
  },
  {
   "cell_type": "code",
   "execution_count": null,
   "metadata": {},
   "outputs": [],
   "source": []
  }
 ],
 "metadata": {
  "kernelspec": {
   "display_name": "vir_env",
   "language": "python",
   "name": "python3"
  },
  "language_info": {
   "codemirror_mode": {
    "name": "ipython",
    "version": 3
   },
   "file_extension": ".py",
   "mimetype": "text/x-python",
   "name": "python",
   "nbconvert_exporter": "python",
   "pygments_lexer": "ipython3",
   "version": "3.12.0"
  }
 },
 "nbformat": 4,
 "nbformat_minor": 2
}
