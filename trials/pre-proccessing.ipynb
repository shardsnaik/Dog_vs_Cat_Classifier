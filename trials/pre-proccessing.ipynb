{
 "cells": [
  {
   "cell_type": "code",
   "execution_count": 1,
   "metadata": {},
   "outputs": [],
   "source": [
    "import os\n"
   ]
  },
  {
   "cell_type": "code",
   "execution_count": 4,
   "metadata": {},
   "outputs": [
    {
     "data": {
      "text/plain": [
       "'c:\\\\Dog_vs_Cat_Classifier'"
      ]
     },
     "execution_count": 4,
     "metadata": {},
     "output_type": "execute_result"
    }
   ],
   "source": [
    "%pwd"
   ]
  },
  {
   "cell_type": "code",
   "execution_count": 3,
   "metadata": {},
   "outputs": [],
   "source": [
    "\n",
    "os.chdir('../')"
   ]
  },
  {
   "cell_type": "code",
   "execution_count": 5,
   "metadata": {},
   "outputs": [],
   "source": [
    "from sklearn.model_selection import train_test_split\n",
    "import shutil\n",
    "from main.d_vs_c.funtions.comon_funtn import read_yaml, create_directories\n",
    "from main.d_vs_c import logger\n",
    "from main.d_vs_c.utils import *\n",
    "\n",
    "class Preprocess:\n",
    "    def __init__(self,\n",
    "                 confi_path = config_file,\n",
    "                 param_path = params_file):\n",
    "        self.config = read_yaml(confi_path)\n",
    "        self.params = read_yaml(param_path)\n",
    "\n",
    "        create_directories([self.config.artifacts_folder])\n",
    "\n",
    "    def splting_data_config(self):\n",
    "        config = self.config.preproccessed_data\n",
    "        create_directories([config.datasets_dir])\n",
    "\n",
    "        split_config = {\n",
    "            'train_dir': Path(config['train_dir']),\n",
    "            'test_dir': Path(config['test_dir']),\n",
    "            'test_size': self.params['test_size'],\n",
    "            'random_state': self.params['random_state']\n",
    "        }\n",
    "\n",
    "        return split_config"
   ]
  },
  {
   "cell_type": "code",
   "execution_count": null,
   "metadata": {},
   "outputs": [],
   "source": [
    "\n",
    "\n",
    "class split_and_move:\n",
    "\n",
    "    def __init__(self, config, params):\n",
    "         self.config = config\n",
    "         self.params = params\n",
    "\n",
    "\n",
    "    def spliting_the_data(self):\n",
    "        for categories in ['Cat', 'Dog']:\n",
    "            dir = r'artifacts\\raw_data\\kagglecatsanddogs_3367a\\PetImages'\n",
    "            categories_path = os.path.join(dir, categories)\n",
    "            images = os.listdir(categories_path)\n",
    "\n",
    "            train_images, test_images = train_test_split(images, test_size=self.params.test_size, random_state=self.params.random_state)\n",
    "\n",
    "            logger.info(f'Dividing data/Images of {categories} into train and validation set sucessfully')\n",
    "\n",
    "            os.makedirs(os.path.join(self.config.train_dir, categories), exist_ok=True)\n",
    "            os.makedirs(os.path.join(self.config.test_dir, categories), exist_ok=True)\n",
    "\n",
    "            logger.info(f'Making folder of  {categories} categories for training and validation........')\n",
    "\n",
    "            for img in train_images:\n",
    "                shutil.copy(os.path.join(categories_path, img), os.path.join(self.config.train_dir, categories, img))\n",
    "            for img in test_images:\n",
    "                shutil.copy(os.path.join(categories_path, img), os.path.join(self.config.test_dir, categories, img))\n",
    "\n",
    "           \n",
    "            logger.info(f'Images are copied from {categories_path} to {self.config.train_dir} successfully ....................... ')\n",
    "            logger.info(f'Images are copied from {categories_path} to {self.config.test_dir} successfully ....................... ')\n",
    "\n",
    "    def getting_size(self):\n",
    "            config = self.config \n",
    "            \n",
    "            logger.info(f'The number of images of Dog in the Train directory ===> {len(os.listdir(os.path.join(config.train_dir, \"Dog\")))}')\n",
    "            logger.info(f'The number of images of Cat in the Train directory ===> {len(os.listdir(os.path.join(config.train_dir, \"Cat\")))}')\n",
    "            logger.info('     ')\n",
    "            logger.info(f'The number of images of Dog in the Test directory ===> {len(os.listdir(os.path.join(config.test_dir, \"Dog\")))}')\n",
    "            logger.info(f'The number of images of Cat in the Test directory ===> {len(os.listdir(os.path.join(config.test_dir, \"Cat\")))}')\n",
    "\n",
    "        \n"
   ]
  },
  {
   "cell_type": "code",
   "execution_count": 8,
   "metadata": {},
   "outputs": [
    {
     "name": "stdout",
     "output_type": "stream",
     "text": [
      "{'artifacts_folder': 'artifacts', 'downloading_data': {'source_dir': 'artifacts/raw_data', 'source_URL': 'karakaggle/kaggle-cat-vs-dog-dataset'}, 'preproccessed_data': {'datasets_dir': 'artifacts/datasets', 'train_dir': 'artifacts/datasets/train', 'test_dir': 'artifacts/datasets/test'}}\n",
      "{'test_size': 0.2, 'random_state': 42}\n",
      "[2024-11-14 23:37:10,339: INFO: comon_funtn: created directory at: artifacts]\n",
      "[2024-11-14 23:37:10,340: INFO: comon_funtn: created directory at: artifacts/datasets]\n"
     ]
    },
    {
     "ename": "AttributeError",
     "evalue": "'dict' object has no attribute 'test_size'",
     "output_type": "error",
     "traceback": [
      "\u001b[1;31m---------------------------------------------------------------------------\u001b[0m",
      "\u001b[1;31mAttributeError\u001b[0m                            Traceback (most recent call last)",
      "Cell \u001b[1;32mIn[8], line 4\u001b[0m\n\u001b[0;32m      2\u001b[0m con \u001b[38;5;241m=\u001b[39m obj\u001b[38;5;241m.\u001b[39msplting_data_config()\n\u001b[0;32m      3\u001b[0m split \u001b[38;5;241m=\u001b[39m split_and_move(config\u001b[38;5;241m=\u001b[39m con, params\u001b[38;5;241m=\u001b[39m con)\n\u001b[1;32m----> 4\u001b[0m \u001b[43msplit\u001b[49m\u001b[38;5;241;43m.\u001b[39;49m\u001b[43mspliting_the_data\u001b[49m\u001b[43m(\u001b[49m\u001b[43m)\u001b[49m\n\u001b[0;32m      5\u001b[0m split\u001b[38;5;241m.\u001b[39mgetting_size()\n",
      "Cell \u001b[1;32mIn[7], line 14\u001b[0m, in \u001b[0;36msplit_and_move.spliting_the_data\u001b[1;34m(self)\u001b[0m\n\u001b[0;32m     11\u001b[0m categories_path \u001b[38;5;241m=\u001b[39m os\u001b[38;5;241m.\u001b[39mpath\u001b[38;5;241m.\u001b[39mjoin(\u001b[38;5;28mdir\u001b[39m, categories)\n\u001b[0;32m     12\u001b[0m images \u001b[38;5;241m=\u001b[39m os\u001b[38;5;241m.\u001b[39mlistdir(categories_path)\n\u001b[1;32m---> 14\u001b[0m train_images, test_images \u001b[38;5;241m=\u001b[39m train_test_split(images, test_size\u001b[38;5;241m=\u001b[39m\u001b[38;5;28;43mself\u001b[39;49m\u001b[38;5;241;43m.\u001b[39;49m\u001b[43mparams\u001b[49m\u001b[38;5;241;43m.\u001b[39;49m\u001b[43mtest_size\u001b[49m, random_state\u001b[38;5;241m=\u001b[39m\u001b[38;5;28mself\u001b[39m\u001b[38;5;241m.\u001b[39mparams\u001b[38;5;241m.\u001b[39mrandom_state)\n\u001b[0;32m     16\u001b[0m logger\u001b[38;5;241m.\u001b[39minfo(\u001b[38;5;124mf\u001b[39m\u001b[38;5;124m'\u001b[39m\u001b[38;5;124mDividing data/Images of \u001b[39m\u001b[38;5;132;01m{\u001b[39;00mcategories\u001b[38;5;132;01m}\u001b[39;00m\u001b[38;5;124m into train and validation set sucessfully\u001b[39m\u001b[38;5;124m'\u001b[39m)\n\u001b[0;32m     18\u001b[0m os\u001b[38;5;241m.\u001b[39mmakedirs(os\u001b[38;5;241m.\u001b[39mpath\u001b[38;5;241m.\u001b[39mjoin(\u001b[38;5;28mself\u001b[39m\u001b[38;5;241m.\u001b[39mconfig\u001b[38;5;241m.\u001b[39mtrain_dir, categories), exist_ok\u001b[38;5;241m=\u001b[39m\u001b[38;5;28;01mTrue\u001b[39;00m)\n",
      "\u001b[1;31mAttributeError\u001b[0m: 'dict' object has no attribute 'test_size'"
     ]
    }
   ],
   "source": [
    "obj = Preprocess()\n",
    "con = obj.splting_data_config()\n",
    "split = split_and_move(config= con, params= con)\n",
    "split.spliting_the_data()\n",
    "split.getting_size()"
   ]
  },
  {
   "cell_type": "code",
   "execution_count": null,
   "metadata": {},
   "outputs": [],
   "source": []
  },
  {
   "cell_type": "code",
   "execution_count": null,
   "metadata": {},
   "outputs": [],
   "source": []
  }
 ],
 "metadata": {
  "kernelspec": {
   "display_name": "vir_env",
   "language": "python",
   "name": "python3"
  },
  "language_info": {
   "codemirror_mode": {
    "name": "ipython",
    "version": 3
   },
   "file_extension": ".py",
   "mimetype": "text/x-python",
   "name": "python",
   "nbconvert_exporter": "python",
   "pygments_lexer": "ipython3",
   "version": "3.12.0"
  }
 },
 "nbformat": 4,
 "nbformat_minor": 2
}
